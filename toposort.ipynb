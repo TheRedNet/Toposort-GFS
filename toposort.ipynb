{
 "cells": [
  {
   "cell_type": "markdown",
   "metadata": {},
   "source": [
    "# Topologisches Sortieren\n",
    "\n",
    "Knoten eines gerichteten Graphen in eine Reihenfolge bring bei der alle Abhängigkeiten erfüllt werden.\n",
    "\n",
    "<img src=\"./simpel1.svg\" width=50%>\n",
    "\n",
    "\n",
    "__Verboten sind zyklische Graphen__\n",
    "\n",
    "![Zyklischer Graph](./Zyklus.png)\n",
    "\n",
    "# Der Algorithmus"
   ]
  },
  {
   "cell_type": "markdown",
   "metadata": {},
   "source": [
    "```python\n",
    "V: Menge von Knoten\n",
    "E: Menge von Kanten (start, ende)\n",
    "G: Gerichteter Graph\n",
    "\n",
    "Funktion TopologischeSortierung(G = (V, E))\n",
    "    L = leere Liste\n",
    "    while V nicht leer do\n",
    "        Zyklus = true\n",
    "        for alle v in V do\n",
    "            if v hat keine eingehenden Kanten then\n",
    "                Zyklus = false\n",
    "                Entferne v aus V\n",
    "                Entferne alle Kanten die von v ausgehen aus E\n",
    "                Füge v am Ende der Liste L hinzu\n",
    "                print v\n",
    "            endif\n",
    "        endfor\n",
    "        if Zyklus then\n",
    "            print \"Zyklus gefunden\"\n",
    "            break\n",
    "        endif\n",
    "    endwhile                \n",
    "end    \n",
    "```"
   ]
  },
  {
   "cell_type": "code",
   "execution_count": 53,
   "metadata": {},
   "outputs": [],
   "source": [
    "def topologischeSortierung(G):\n",
    "    V, E = G\n",
    "    L = []\n",
    "    while len(V) > 0:\n",
    "        zyklus = True\n",
    "        for v in V.copy():\n",
    "            if len([e for e in E if e[1] == v]) == 0:\n",
    "                zyklus = False\n",
    "                V.remove(v)\n",
    "                E = {e for e in E if e[0] != v}\n",
    "                L.append(v)\n",
    "        if zyklus:\n",
    "            print(\"Zyklus gefunden\")\n",
    "            break\n",
    "    return L  \n",
    "\n",
    "\n",
    "   \n",
    "\n"
   ]
  },
  {
   "cell_type": "code",
   "execution_count": 54,
   "metadata": {},
   "outputs": [],
   "source": [
    "# Hier noch eine Debug-Version damit wir genauer sehen können was diese Funktion macht.\n",
    "# Die Änderungen sind mit Kommentaren markiert.\n",
    "\n",
    "from time import sleep as sleep\n",
    "def topologischeSortierungDebug(G):\n",
    "    callcounterg = 0 ###############################################################################################\n",
    "    iterationcounter = 0 ###########################################################################################\n",
    "    V, E = G\n",
    "    L = []\n",
    "    while len(V) > 0:\n",
    "        callcounter = 0 ############################################################################################\n",
    "        iterationcounter += 1 ######################################################################################\n",
    "        zyklus = True\n",
    "        print(iterationcounter, end=\". Durchgang, Aufgelöste Knoten: [ \") ##########################################\n",
    "        for v in V.copy():\n",
    "            callcounter += 1 #######################################################################################\n",
    "            if len([e for e in E if e[1] == v]) == 0:\n",
    "                zyklus = False\n",
    "                V.remove(v)\n",
    "                E = {e for e in E if e[0] != v}\n",
    "                L.append(v)\n",
    "                print(v, end=\" \") ##################################################################################\n",
    "                #sleep(0.5) ########################################################################################\n",
    "        print(\"]   Knoten iteriert: \", callcounter, end=\" \")  ######################################################\n",
    "        callcounterg += callcounter ################################################################################\n",
    "        if zyklus:\n",
    "            print(\"Zyklus gefunden\")\n",
    "            break\n",
    "        print(\"         V: \", V, \"E: \", E) #########################################################################\n",
    "    print(\"Gesamtanzahl der iterierten Knoten: \", callcounterg, \"Anzahl der Durchgänge: \", iterationcounter) #######\n",
    "    return L  "
   ]
  },
  {
   "cell_type": "markdown",
   "metadata": {},
   "source": [
    "<img src=\"./simpel1.svg\" width=50%>"
   ]
  },
  {
   "cell_type": "code",
   "execution_count": 55,
   "metadata": {},
   "outputs": [
    {
     "name": "stdout",
     "output_type": "stream",
     "text": [
      "1. Durchgang, Aufgelöste Knoten: [ a b c d e ]   Knoten iteriert:  5          V:  [] E:  set()\n",
      "Gesamtanzahl der iterierten Knoten:  5 Anzahl der Durchgänge:  1\n"
     ]
    },
    {
     "data": {
      "text/plain": [
       "['a', 'b', 'c', 'd', 'e']"
      ]
     },
     "execution_count": 55,
     "metadata": {},
     "output_type": "execute_result"
    }
   ],
   "source": [
    "V1 = ['a','b','c','d','e']\n",
    "E1 = [\n",
    "    ('a', 'b'),\n",
    "    ('b', 'c'),\n",
    "    ('a', 'd'),\n",
    "    ('d', 'e'),\n",
    "    ('c', 'e')\n",
    "]\n",
    "G1 = (V1.copy(), E1)\n",
    "topologischeSortierungDebug(G1)\n"
   ]
  },
  {
   "cell_type": "markdown",
   "metadata": {},
   "source": [
    "### Achtung: Reihenfolge von V beeinflust Performance!"
   ]
  },
  {
   "cell_type": "code",
   "execution_count": 56,
   "metadata": {},
   "outputs": [
    {
     "name": "stdout",
     "output_type": "stream",
     "text": [
      "1. Durchgang, Aufgelöste Knoten: [ a ]   Knoten iteriert:  5          V:  ['d', 'e', 'c', 'b'] E:  {('b', 'c'), ('d', 'e'), ('c', 'e')}\n",
      "2. Durchgang, Aufgelöste Knoten: [ d b ]   Knoten iteriert:  4          V:  ['e', 'c'] E:  {('c', 'e')}\n",
      "3. Durchgang, Aufgelöste Knoten: [ c ]   Knoten iteriert:  2          V:  ['e'] E:  set()\n",
      "4. Durchgang, Aufgelöste Knoten: [ e ]   Knoten iteriert:  1          V:  [] E:  set()\n",
      "Gesamtanzahl der iterierten Knoten:  12 Anzahl der Durchgänge:  4\n"
     ]
    },
    {
     "data": {
      "text/plain": [
       "['a', 'd', 'b', 'c', 'e']"
      ]
     },
     "execution_count": 56,
     "metadata": {},
     "output_type": "execute_result"
    }
   ],
   "source": [
    "V1reverse = ['d','e','c','b','a']\n",
    "G1reverse = (V1reverse, E1)\n",
    "topologischeSortierungDebug(G1reverse)"
   ]
  },
  {
   "cell_type": "markdown",
   "metadata": {},
   "source": [
    "### Hier ein Beispiel mit einem Zyklus"
   ]
  },
  {
   "cell_type": "markdown",
   "metadata": {},
   "source": [
    "<img src=\"./zyklus.svg\" width=50%>"
   ]
  },
  {
   "cell_type": "code",
   "execution_count": 57,
   "metadata": {},
   "outputs": [
    {
     "name": "stdout",
     "output_type": "stream",
     "text": [
      "1. Durchgang, Aufgelöste Knoten: [ ]   Knoten iteriert:  5 Zyklus gefunden\n",
      "Gesamtanzahl der iterierten Knoten:  5 Anzahl der Durchgänge:  1\n"
     ]
    },
    {
     "data": {
      "text/plain": [
       "[]"
      ]
     },
     "execution_count": 57,
     "metadata": {},
     "output_type": "execute_result"
    }
   ],
   "source": [
    "E1z = [\n",
    "    ('a', 'b'),\n",
    "    ('b', 'c'),\n",
    "    ('a', 'd'),\n",
    "    ('d', 'e'),\n",
    "    ('c', 'e'),\n",
    "    ('e', 'a') # Zyklus\n",
    "]\n",
    "G1z = (V1, E1z)\n",
    "topologischeSortierungDebug(G1z)"
   ]
  },
  {
   "cell_type": "markdown",
   "metadata": {},
   "source": [
    "## Jetzt noch ein komplexerer Graph"
   ]
  },
  {
   "cell_type": "markdown",
   "metadata": {},
   "source": [
    "<img src=\"./G.png\" width=60%>"
   ]
  },
  {
   "cell_type": "code",
   "execution_count": 58,
   "metadata": {},
   "outputs": [
    {
     "name": "stdout",
     "output_type": "stream",
     "text": [
      "1. Durchgang, Aufgelöste Knoten: [ d g h i ]   Knoten iteriert:  10          V:  ['a', 'b', 'c', 'e', 'f', 'j'] E:  {('e', 'c'), ('f', 'j'), ('f', 'b'), ('c', 'f'), ('j', 'a')}\n",
      "2. Durchgang, Aufgelöste Knoten: [ e ]   Knoten iteriert:  6          V:  ['a', 'b', 'c', 'f', 'j'] E:  {('f', 'j'), ('f', 'b'), ('j', 'a'), ('c', 'f')}\n",
      "3. Durchgang, Aufgelöste Knoten: [ c f j ]   Knoten iteriert:  5          V:  ['a', 'b'] E:  set()\n",
      "4. Durchgang, Aufgelöste Knoten: [ a b ]   Knoten iteriert:  2          V:  [] E:  set()\n",
      "Gesamtanzahl der iterierten Knoten:  23 Anzahl der Durchgänge:  4\n"
     ]
    },
    {
     "data": {
      "text/plain": [
       "['d', 'g', 'h', 'i', 'e', 'c', 'f', 'j', 'a', 'b']"
      ]
     },
     "execution_count": 58,
     "metadata": {},
     "output_type": "execute_result"
    }
   ],
   "source": [
    "V2 = ['a','b','c','d','e','f','g','h','i','j']\n",
    "E2 = {('g', 'a'),('f', 'b'),('e', 'c'),('d', 'e'),('c', 'f'),('h', 'f'),('g', 'h'),('h', 'i'),('i', 'j'),('f', 'j'),('j', 'a'),('h', 'e')}\n",
    "G2 = (V2.copy(), E2.copy())\n",
    "topologischeSortierungDebug(G2)\n"
   ]
  },
  {
   "cell_type": "markdown",
   "metadata": {},
   "source": [
    "### Jetzt noch zyklisch\n",
    "<img src=\"./GmZyk.png\" width=60%>"
   ]
  },
  {
   "cell_type": "code",
   "execution_count": 59,
   "metadata": {},
   "outputs": [
    {
     "name": "stdout",
     "output_type": "stream",
     "text": [
      "1. Durchgang, Aufgelöste Knoten: [ d g h i ]   Knoten iteriert:  10          V:  ['a', 'b', 'c', 'e', 'f', 'j'] E:  {('e', 'c'), ('f', 'j'), ('f', 'b'), ('b', 'c'), ('c', 'f'), ('j', 'a')}\n",
      "2. Durchgang, Aufgelöste Knoten: [ e ]   Knoten iteriert:  6          V:  ['a', 'b', 'c', 'f', 'j'] E:  {('f', 'j'), ('f', 'b'), ('b', 'c'), ('c', 'f'), ('j', 'a')}\n",
      "3. Durchgang, Aufgelöste Knoten: [ ]   Knoten iteriert:  5 Zyklus gefunden\n",
      "Gesamtanzahl der iterierten Knoten:  21 Anzahl der Durchgänge:  3\n"
     ]
    },
    {
     "data": {
      "text/plain": [
       "['d', 'g', 'h', 'i', 'e']"
      ]
     },
     "execution_count": 59,
     "metadata": {},
     "output_type": "execute_result"
    }
   ],
   "source": [
    "E2z = {('g', 'a'),('f', 'b'),('e', 'c'),('d', 'e'),('c', 'f'),('h', 'f'),('g', 'h'),('h', 'i'),('i', 'j'),('f', 'j'),('j', 'a'),('h', 'e'),('b','c')}\n",
    "G2z = (V2.copy(), E2z)\n",
    "topologischeSortierungDebug(G2z)"
   ]
  },
  {
   "cell_type": "markdown",
   "metadata": {},
   "source": [
    "## Wie nützen wir die Funktion mit unserem Graphenformat?"
   ]
  },
  {
   "cell_type": "code",
   "execution_count": 60,
   "metadata": {},
   "outputs": [
    {
     "name": "stdout",
     "output_type": "stream",
     "text": [
      "True\n"
     ]
    },
    {
     "data": {
      "text/plain": [
       "(['a', 'b', 'c', 'd', 'e', 'f', 'g', 'h', 'i', 'j'],\n",
       " {('c', 'f'),\n",
       "  ('d', 'e'),\n",
       "  ('e', 'c'),\n",
       "  ('f', 'b'),\n",
       "  ('f', 'j'),\n",
       "  ('g', 'a'),\n",
       "  ('g', 'h'),\n",
       "  ('h', 'e'),\n",
       "  ('h', 'f'),\n",
       "  ('h', 'i'),\n",
       "  ('i', 'j'),\n",
       "  ('j', 'a')})"
      ]
     },
     "execution_count": 60,
     "metadata": {},
     "output_type": "execute_result"
    }
   ],
   "source": [
    "Gdictset = {'a': set(), 'b': set(), 'c': {'f'}, 'd': {'e'}, 'e': {'c'}, 'f': {'b', 'j'}, 'g': {'a', 'h'}, 'h': {'e', 'f', 'i'}, 'i': {'j'}, 'j': {'a'}}\n",
    "\n",
    "def dictset2tuple(G):\n",
    "    V = list(G.keys())\n",
    "    E = set()\n",
    "    for k in G:\n",
    "        for v in G[k]:\n",
    "            E.add((k,v))\n",
    "    return (V,E)\n",
    "\n",
    "def tuple2dictset(G):\n",
    "    V, E = G\n",
    "    G = {v:set() for v in V}\n",
    "    for e in E:\n",
    "        G[e[0]].add(e[1])\n",
    "    return G\n",
    "\n",
    "print( tuple2dictset(dictset2tuple(Gdictset)) == Gdictset )\n",
    "dictset2tuple(Gdictset)"
   ]
  },
  {
   "cell_type": "code",
   "execution_count": 61,
   "metadata": {},
   "outputs": [
    {
     "name": "stdout",
     "output_type": "stream",
     "text": [
      "1. Durchgang, Aufgelöste Knoten: [ d g h i ]   Knoten iteriert:  10          V:  ['a', 'b', 'c', 'e', 'f', 'j'] E:  {('e', 'c'), ('f', 'j'), ('f', 'b'), ('c', 'f'), ('j', 'a')}\n",
      "2. Durchgang, Aufgelöste Knoten: [ e ]   Knoten iteriert:  6          V:  ['a', 'b', 'c', 'f', 'j'] E:  {('f', 'j'), ('f', 'b'), ('j', 'a'), ('c', 'f')}\n",
      "3. Durchgang, Aufgelöste Knoten: [ c f j ]   Knoten iteriert:  5          V:  ['a', 'b'] E:  set()\n",
      "4. Durchgang, Aufgelöste Knoten: [ a b ]   Knoten iteriert:  2          V:  [] E:  set()\n",
      "Gesamtanzahl der iterierten Knoten:  23 Anzahl der Durchgänge:  4\n"
     ]
    },
    {
     "data": {
      "text/plain": [
       "['d', 'g', 'h', 'i', 'e', 'c', 'f', 'j', 'a', 'b']"
      ]
     },
     "execution_count": 61,
     "metadata": {},
     "output_type": "execute_result"
    }
   ],
   "source": [
    "topologischeSortierungDebug(dictset2tuple(Gdictset))"
   ]
  }
 ],
 "metadata": {
  "kernelspec": {
   "display_name": "venv",
   "language": "python",
   "name": "python3"
  },
  "language_info": {
   "codemirror_mode": {
    "name": "ipython",
    "version": 3
   },
   "file_extension": ".py",
   "mimetype": "text/x-python",
   "name": "python",
   "nbconvert_exporter": "python",
   "pygments_lexer": "ipython3",
   "version": "3.11.6"
  }
 },
 "nbformat": 4,
 "nbformat_minor": 2
}
